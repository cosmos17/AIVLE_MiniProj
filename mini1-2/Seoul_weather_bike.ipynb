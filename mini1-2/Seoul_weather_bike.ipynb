{
 "cells": [
  {
   "cell_type": "markdown",
   "id": "46fa690c",
   "metadata": {
    "id": "46fa690c"
   },
   "source": [
    "# 날씨데이터 기반 서울시 공유자전거 따릉이 수요 예측\n",
    "\n",
    "### 목표\n",
    " * 어떠한 날씨요소가 따릉이 수요와 관련 있는지 분석 및 인사이트 도출\n",
    "\n",
    "### 데이터\n",
    "* 1 서울기상관측 및 따릉이 대여 데이터"
   ]
  },
  {
   "cell_type": "code",
   "execution_count": 1,
   "id": "442dc4e3",
   "metadata": {},
   "outputs": [],
   "source": [
    "# 분석\n",
    "# import sys\n",
    "import pandas as pd\n",
    "import scipy.stats as spst\n",
    "\n",
    "# 시각화\n",
    "import matplotlib.pyplot as plt\n",
    "import seaborn as sns"
   ]
  },
  {
   "cell_type": "code",
   "execution_count": 2,
   "id": "970bfeff",
   "metadata": {},
   "outputs": [],
   "source": [
    "plt.rc(\"font\", family=\"Malgun Gothic\")\n",
    "sns.set(font=\"Malgun Gothic\", \n",
    "        rc={\"axes.unicode_minus\":False}, style='white')"
   ]
  },
  {
   "cell_type": "markdown",
   "id": "99e22570",
   "metadata": {},
   "source": [
    "## 1> 개요\n",
    "|구분||\n",
    "|-|-|\n",
    "|파일명|**서울기상관측 및 따릉이 대여 데이터.csv**|\n",
    "|출처|https://data.kma.go.kr/data/grnd/selectAsosRltmList.do?pgmNo=36<br>http://data.seoul.go.kr/dataList/OA-15245/F/1/datasetView.do|\n",
    "|설명|시간대별 서울시 공공자전거 이용정보 및 서울시 마포구로 날씨 자료|\n",
    "\n",
    "<br>\n",
    "\n",
    "|컬럼|설명|\n",
    "|-|-|\n",
    "|date|날짜|\n",
    "|hour|시간|\n",
    "|temperature|온도|\n",
    "|precipitation|강우 여부, 비가 오지 않았으면 0, 비가 오면 1|\n",
    "|windspeed|풍속(평균)|\n",
    "|humidity|습도|\n",
    "|visibility|시정(視程), 시계(視界)(특정 기상 상태에 따른 가시성을 의미)|\n",
    "|ozone|오존 수치|\n",
    "|PM10|미세먼지 수치(머리카락 굵기의 1/5에서 1/7 크기의 미세먼지)|\n",
    "|PM2.5|초미세먼지 수치(머리카락 굵기의 1/20에서 1/30 크기의 미세먼지)|\n",
    "|count|시간에 따른 따릉이 대여 수|"
   ]
  },
  {
   "cell_type": "markdown",
   "id": "vocational-animal",
   "metadata": {
    "id": "vocational-animal"
   },
   "source": [
    "## 2> 데이터 전처리"
   ]
  },
  {
   "cell_type": "code",
   "execution_count": 3,
   "id": "saving-slope",
   "metadata": {
    "executionInfo": {
     "elapsed": 305,
     "status": "ok",
     "timestamp": 1655797696108,
     "user": {
      "displayName": "Seonil Kwon",
      "userId": "10539738350691841262"
     },
     "user_tz": -540
    },
    "id": "saving-slope"
   },
   "outputs": [
    {
     "data": {
      "text/html": [
       "<div>\n",
       "<style scoped>\n",
       "    .dataframe tbody tr th:only-of-type {\n",
       "        vertical-align: middle;\n",
       "    }\n",
       "\n",
       "    .dataframe tbody tr th {\n",
       "        vertical-align: top;\n",
       "    }\n",
       "\n",
       "    .dataframe thead th {\n",
       "        text-align: right;\n",
       "    }\n",
       "</style>\n",
       "<table border=\"1\" class=\"dataframe\">\n",
       "  <thead>\n",
       "    <tr style=\"text-align: right;\">\n",
       "      <th></th>\n",
       "      <th>date</th>\n",
       "      <th>hour</th>\n",
       "      <th>PM10</th>\n",
       "      <th>PM2.5</th>\n",
       "      <th>ozone</th>\n",
       "      <th>temperature</th>\n",
       "      <th>precipitation</th>\n",
       "      <th>windspeed</th>\n",
       "      <th>humidity</th>\n",
       "      <th>visibility</th>\n",
       "      <th>count</th>\n",
       "    </tr>\n",
       "  </thead>\n",
       "  <tbody>\n",
       "    <tr>\n",
       "      <th>0</th>\n",
       "      <td>2021-04-01</td>\n",
       "      <td>1</td>\n",
       "      <td>42.0</td>\n",
       "      <td>21.0</td>\n",
       "      <td>0.002</td>\n",
       "      <td>13.1</td>\n",
       "      <td>0</td>\n",
       "      <td>1.4</td>\n",
       "      <td>49</td>\n",
       "      <td>2000</td>\n",
       "      <td>46</td>\n",
       "    </tr>\n",
       "    <tr>\n",
       "      <th>1</th>\n",
       "      <td>2021-04-01</td>\n",
       "      <td>2</td>\n",
       "      <td>41.0</td>\n",
       "      <td>21.0</td>\n",
       "      <td>0.003</td>\n",
       "      <td>12.4</td>\n",
       "      <td>0</td>\n",
       "      <td>2.1</td>\n",
       "      <td>53</td>\n",
       "      <td>2000</td>\n",
       "      <td>40</td>\n",
       "    </tr>\n",
       "  </tbody>\n",
       "</table>\n",
       "</div>"
      ],
      "text/plain": [
       "         date  hour  PM10  PM2.5  ozone  temperature  precipitation  \\\n",
       "0  2021-04-01     1  42.0   21.0  0.002         13.1              0   \n",
       "1  2021-04-01     2  41.0   21.0  0.003         12.4              0   \n",
       "\n",
       "   windspeed  humidity  visibility  count  \n",
       "0        1.4        49        2000     46  \n",
       "1        2.1        53        2000     40  "
      ]
     },
     "metadata": {},
     "output_type": "display_data"
    },
    {
     "data": {
      "text/html": [
       "<div>\n",
       "<style scoped>\n",
       "    .dataframe tbody tr th:only-of-type {\n",
       "        vertical-align: middle;\n",
       "    }\n",
       "\n",
       "    .dataframe tbody tr th {\n",
       "        vertical-align: top;\n",
       "    }\n",
       "\n",
       "    .dataframe thead th {\n",
       "        text-align: right;\n",
       "    }\n",
       "</style>\n",
       "<table border=\"1\" class=\"dataframe\">\n",
       "  <thead>\n",
       "    <tr style=\"text-align: right;\">\n",
       "      <th></th>\n",
       "      <th>date</th>\n",
       "      <th>hour</th>\n",
       "      <th>PM10</th>\n",
       "      <th>PM2.5</th>\n",
       "      <th>ozone</th>\n",
       "      <th>temperature</th>\n",
       "      <th>precipitation</th>\n",
       "      <th>windspeed</th>\n",
       "      <th>humidity</th>\n",
       "      <th>visibility</th>\n",
       "      <th>count</th>\n",
       "    </tr>\n",
       "  </thead>\n",
       "  <tbody>\n",
       "    <tr>\n",
       "      <th>5825</th>\n",
       "      <td>2021-11-29</td>\n",
       "      <td>23</td>\n",
       "      <td>43.0</td>\n",
       "      <td>35.0</td>\n",
       "      <td>0.001</td>\n",
       "      <td>8.2</td>\n",
       "      <td>0</td>\n",
       "      <td>2.1</td>\n",
       "      <td>71</td>\n",
       "      <td>1262</td>\n",
       "      <td>125</td>\n",
       "    </tr>\n",
       "    <tr>\n",
       "      <th>5826</th>\n",
       "      <td>2021-11-30</td>\n",
       "      <td>0</td>\n",
       "      <td>39.0</td>\n",
       "      <td>31.0</td>\n",
       "      <td>0.004</td>\n",
       "      <td>7.9</td>\n",
       "      <td>0</td>\n",
       "      <td>2.3</td>\n",
       "      <td>71</td>\n",
       "      <td>1483</td>\n",
       "      <td>95</td>\n",
       "    </tr>\n",
       "  </tbody>\n",
       "</table>\n",
       "</div>"
      ],
      "text/plain": [
       "            date  hour  PM10  PM2.5  ozone  temperature  precipitation  \\\n",
       "5825  2021-11-29    23  43.0   35.0  0.001          8.2              0   \n",
       "5826  2021-11-30     0  39.0   31.0  0.004          7.9              0   \n",
       "\n",
       "      windspeed  humidity  visibility  count  \n",
       "5825        2.1        71        1262    125  \n",
       "5826        2.3        71        1483     95  "
      ]
     },
     "metadata": {},
     "output_type": "display_data"
    }
   ],
   "source": [
    "sbike = pd.read_csv('서울기상관측 및 따릉이 대여 데이터.csv')\n",
    "display(sbike.head(2))\n",
    "display(sbike.tail(2))"
   ]
  },
  {
   "cell_type": "code",
   "execution_count": 4,
   "id": "235a4e14",
   "metadata": {},
   "outputs": [
    {
     "name": "stdout",
     "output_type": "stream",
     "text": [
      "<class 'pandas.core.frame.DataFrame'>\n",
      "RangeIndex: 5827 entries, 0 to 5826\n",
      "Data columns (total 11 columns):\n",
      " #   Column         Non-Null Count  Dtype  \n",
      "---  ------         --------------  -----  \n",
      " 0   date           5827 non-null   object \n",
      " 1   hour           5827 non-null   int64  \n",
      " 2   PM10           5725 non-null   float64\n",
      " 3   PM2.5          5732 non-null   float64\n",
      " 4   ozone          5699 non-null   float64\n",
      " 5   temperature    5827 non-null   float64\n",
      " 6   precipitation  5827 non-null   int64  \n",
      " 7   windspeed      5827 non-null   float64\n",
      " 8   humidity       5827 non-null   int64  \n",
      " 9   visibility     5827 non-null   int64  \n",
      " 10  count          5827 non-null   int64  \n",
      "dtypes: float64(5), int64(5), object(1)\n",
      "memory usage: 500.9+ KB\n"
     ]
    }
   ],
   "source": [
    "sbike.info()"
   ]
  },
  {
   "cell_type": "markdown",
   "id": "265f0fc2",
   "metadata": {},
   "source": [
    "### 2-1> 결측치 처리 (PM10, PM2.5, ozone)"
   ]
  },
  {
   "cell_type": "code",
   "execution_count": 5,
   "id": "3572470c",
   "metadata": {},
   "outputs": [],
   "source": [
    "import warnings\n",
    "warnings.filterwarnings(\"ignore\")"
   ]
  },
  {
   "cell_type": "code",
   "execution_count": 6,
   "id": "6cd5446b",
   "metadata": {},
   "outputs": [],
   "source": [
    "sbike_drop = sbike.drop(columns=['date', 'count'], axis=1)"
   ]
  },
  {
   "cell_type": "code",
   "execution_count": 7,
   "id": "a77199ef",
   "metadata": {},
   "outputs": [
    {
     "name": "stdout",
     "output_type": "stream",
     "text": [
      "KNNImputer 최적 파라미터: {'n_neighbors': 3}\n"
     ]
    }
   ],
   "source": [
    "# 결측치가 많은데 시계열데이터이므로 K-Nearest Neighbors 알고리즘을 바탕으로 결측치 채우기\n",
    "from sklearn.impute import KNNImputer\n",
    "from sklearn.model_selection import GridSearchCV\n",
    "\n",
    "params = {'n_neighbors': [3, 5, 7, 9, 11]} # 완전탐색할 파라미터\n",
    "\n",
    "grid_search = GridSearchCV(estimator=KNNImputer(), # 이웃 간 유사성을 비교\n",
    "                           param_grid=params,\n",
    "                           scoring='neg_mean_squared_error', # MSE\n",
    "                           cv=5) # 교차 검증 횟수\n",
    "\n",
    "grid_search.fit(sbike_drop)\n",
    "print(\"KNNImputer 최적 파라미터:\", grid_search.best_params_)"
   ]
  },
  {
   "cell_type": "code",
   "execution_count": 8,
   "id": "a91dcdc0",
   "metadata": {},
   "outputs": [],
   "source": [
    "warnings.resetwarnings()"
   ]
  },
  {
   "cell_type": "code",
   "execution_count": 9,
   "id": "b70dca91",
   "metadata": {},
   "outputs": [
    {
     "data": {
      "text/html": [
       "<div>\n",
       "<style scoped>\n",
       "    .dataframe tbody tr th:only-of-type {\n",
       "        vertical-align: middle;\n",
       "    }\n",
       "\n",
       "    .dataframe tbody tr th {\n",
       "        vertical-align: top;\n",
       "    }\n",
       "\n",
       "    .dataframe thead th {\n",
       "        text-align: right;\n",
       "    }\n",
       "</style>\n",
       "<table border=\"1\" class=\"dataframe\">\n",
       "  <thead>\n",
       "    <tr style=\"text-align: right;\">\n",
       "      <th></th>\n",
       "      <th>date</th>\n",
       "      <th>hour</th>\n",
       "      <th>PM10</th>\n",
       "      <th>PM2.5</th>\n",
       "      <th>ozone</th>\n",
       "      <th>temperature</th>\n",
       "      <th>precipitation</th>\n",
       "      <th>windspeed</th>\n",
       "      <th>humidity</th>\n",
       "      <th>visibility</th>\n",
       "      <th>count</th>\n",
       "    </tr>\n",
       "  </thead>\n",
       "  <tbody>\n",
       "    <tr>\n",
       "      <th>0</th>\n",
       "      <td>2021-04-01</td>\n",
       "      <td>1.0</td>\n",
       "      <td>42.0</td>\n",
       "      <td>21.0</td>\n",
       "      <td>0.002</td>\n",
       "      <td>13.1</td>\n",
       "      <td>0.0</td>\n",
       "      <td>1.4</td>\n",
       "      <td>49.0</td>\n",
       "      <td>2000.0</td>\n",
       "      <td>46</td>\n",
       "    </tr>\n",
       "    <tr>\n",
       "      <th>1</th>\n",
       "      <td>2021-04-01</td>\n",
       "      <td>2.0</td>\n",
       "      <td>41.0</td>\n",
       "      <td>21.0</td>\n",
       "      <td>0.003</td>\n",
       "      <td>12.4</td>\n",
       "      <td>0.0</td>\n",
       "      <td>2.1</td>\n",
       "      <td>53.0</td>\n",
       "      <td>2000.0</td>\n",
       "      <td>40</td>\n",
       "    </tr>\n",
       "    <tr>\n",
       "      <th>2</th>\n",
       "      <td>2021-04-01</td>\n",
       "      <td>3.0</td>\n",
       "      <td>30.0</td>\n",
       "      <td>13.0</td>\n",
       "      <td>0.023</td>\n",
       "      <td>13.1</td>\n",
       "      <td>0.0</td>\n",
       "      <td>3.4</td>\n",
       "      <td>43.0</td>\n",
       "      <td>2000.0</td>\n",
       "      <td>31</td>\n",
       "    </tr>\n",
       "    <tr>\n",
       "      <th>3</th>\n",
       "      <td>2021-04-01</td>\n",
       "      <td>4.0</td>\n",
       "      <td>27.0</td>\n",
       "      <td>12.0</td>\n",
       "      <td>0.028</td>\n",
       "      <td>13.0</td>\n",
       "      <td>0.0</td>\n",
       "      <td>3.1</td>\n",
       "      <td>44.0</td>\n",
       "      <td>2000.0</td>\n",
       "      <td>12</td>\n",
       "    </tr>\n",
       "    <tr>\n",
       "      <th>4</th>\n",
       "      <td>2021-04-01</td>\n",
       "      <td>5.0</td>\n",
       "      <td>29.0</td>\n",
       "      <td>14.0</td>\n",
       "      <td>0.008</td>\n",
       "      <td>13.0</td>\n",
       "      <td>0.0</td>\n",
       "      <td>2.9</td>\n",
       "      <td>44.0</td>\n",
       "      <td>2000.0</td>\n",
       "      <td>30</td>\n",
       "    </tr>\n",
       "  </tbody>\n",
       "</table>\n",
       "</div>"
      ],
      "text/plain": [
       "         date  hour  PM10  PM2.5  ozone  temperature  precipitation  \\\n",
       "0  2021-04-01   1.0  42.0   21.0  0.002         13.1            0.0   \n",
       "1  2021-04-01   2.0  41.0   21.0  0.003         12.4            0.0   \n",
       "2  2021-04-01   3.0  30.0   13.0  0.023         13.1            0.0   \n",
       "3  2021-04-01   4.0  27.0   12.0  0.028         13.0            0.0   \n",
       "4  2021-04-01   5.0  29.0   14.0  0.008         13.0            0.0   \n",
       "\n",
       "   windspeed  humidity  visibility  count  \n",
       "0        1.4      49.0      2000.0     46  \n",
       "1        2.1      53.0      2000.0     40  \n",
       "2        3.4      43.0      2000.0     31  \n",
       "3        3.1      44.0      2000.0     12  \n",
       "4        2.9      44.0      2000.0     30  "
      ]
     },
     "execution_count": 9,
     "metadata": {},
     "output_type": "execute_result"
    }
   ],
   "source": [
    "imputer = KNNImputer(n_neighbors=grid_search.best_params_['n_neighbors'])\n",
    "sbike_knn = imputer.fit_transform(sbike_drop)\n",
    "\n",
    "sbike_knn = pd.DataFrame(sbike_knn, columns=sbike_drop.columns)\n",
    "sbike_knn['date'] = sbike['date']\n",
    "sbike_knn['count'] = sbike['count']\n",
    "sbike_knn = sbike_knn[sbike.columns]\n",
    "sbike_knn.head()"
   ]
  },
  {
   "cell_type": "markdown",
   "id": "8db4f533",
   "metadata": {},
   "source": [
    "### 2-2> 데이터 타입 변경"
   ]
  },
  {
   "cell_type": "code",
   "execution_count": 10,
   "id": "23816bda",
   "metadata": {},
   "outputs": [],
   "source": [
    "sbike_knn['date'] = pd.to_datetime(sbike_knn['date'])\n",
    "\n",
    "int_cols = ['hour', 'precipitation', 'humidity', 'visibility', 'count']\n",
    "for col in int_cols:\n",
    "    sbike_knn[col] = sbike_knn[col].astype(int)"
   ]
  },
  {
   "cell_type": "code",
   "execution_count": 11,
   "id": "8647b1a3",
   "metadata": {},
   "outputs": [],
   "source": [
    "sbike_knn['PM10'] = sbike_knn['PM10'].round(1)\n",
    "sbike_knn['PM2.5'] = sbike_knn['PM2.5'].round(1)\n",
    "sbike_knn['ozone'] = sbike_knn['ozone'].round(3)"
   ]
  },
  {
   "cell_type": "code",
   "execution_count": 12,
   "id": "ea01586d",
   "metadata": {},
   "outputs": [
    {
     "name": "stdout",
     "output_type": "stream",
     "text": [
      "<class 'pandas.core.frame.DataFrame'>\n",
      "RangeIndex: 5827 entries, 0 to 5826\n",
      "Data columns (total 11 columns):\n",
      " #   Column         Non-Null Count  Dtype         \n",
      "---  ------         --------------  -----         \n",
      " 0   date           5827 non-null   datetime64[ns]\n",
      " 1   hour           5827 non-null   int32         \n",
      " 2   PM10           5827 non-null   float64       \n",
      " 3   PM2.5          5827 non-null   float64       \n",
      " 4   ozone          5827 non-null   float64       \n",
      " 5   temperature    5827 non-null   float64       \n",
      " 6   precipitation  5827 non-null   int32         \n",
      " 7   windspeed      5827 non-null   float64       \n",
      " 8   humidity       5827 non-null   int32         \n",
      " 9   visibility     5827 non-null   int32         \n",
      " 10  count          5827 non-null   int32         \n",
      "dtypes: datetime64[ns](1), float64(5), int32(5)\n",
      "memory usage: 387.1 KB\n"
     ]
    }
   ],
   "source": [
    "sbike_knn.info()"
   ]
  },
  {
   "cell_type": "code",
   "execution_count": 13,
   "id": "eeaf8504",
   "metadata": {},
   "outputs": [
    {
     "data": {
      "text/html": [
       "<div>\n",
       "<style scoped>\n",
       "    .dataframe tbody tr th:only-of-type {\n",
       "        vertical-align: middle;\n",
       "    }\n",
       "\n",
       "    .dataframe tbody tr th {\n",
       "        vertical-align: top;\n",
       "    }\n",
       "\n",
       "    .dataframe thead th {\n",
       "        text-align: right;\n",
       "    }\n",
       "</style>\n",
       "<table border=\"1\" class=\"dataframe\">\n",
       "  <thead>\n",
       "    <tr style=\"text-align: right;\">\n",
       "      <th></th>\n",
       "      <th>date</th>\n",
       "      <th>hour</th>\n",
       "      <th>PM10</th>\n",
       "      <th>PM2.5</th>\n",
       "      <th>ozone</th>\n",
       "      <th>temperature</th>\n",
       "      <th>precipitation</th>\n",
       "      <th>windspeed</th>\n",
       "      <th>humidity</th>\n",
       "      <th>visibility</th>\n",
       "      <th>count</th>\n",
       "    </tr>\n",
       "  </thead>\n",
       "  <tbody>\n",
       "    <tr>\n",
       "      <th>273</th>\n",
       "      <td>2021-04-12</td>\n",
       "      <td>10</td>\n",
       "      <td>38.0</td>\n",
       "      <td>24.0</td>\n",
       "      <td>0.036</td>\n",
       "      <td>16.1</td>\n",
       "      <td>0</td>\n",
       "      <td>2.0</td>\n",
       "      <td>46</td>\n",
       "      <td>2000</td>\n",
       "      <td>93</td>\n",
       "    </tr>\n",
       "    <tr>\n",
       "      <th>274</th>\n",
       "      <td>2021-04-12</td>\n",
       "      <td>11</td>\n",
       "      <td>NaN</td>\n",
       "      <td>NaN</td>\n",
       "      <td>NaN</td>\n",
       "      <td>16.9</td>\n",
       "      <td>0</td>\n",
       "      <td>2.8</td>\n",
       "      <td>41</td>\n",
       "      <td>2000</td>\n",
       "      <td>117</td>\n",
       "    </tr>\n",
       "    <tr>\n",
       "      <th>275</th>\n",
       "      <td>2021-04-12</td>\n",
       "      <td>12</td>\n",
       "      <td>NaN</td>\n",
       "      <td>NaN</td>\n",
       "      <td>NaN</td>\n",
       "      <td>17.6</td>\n",
       "      <td>0</td>\n",
       "      <td>3.9</td>\n",
       "      <td>39</td>\n",
       "      <td>2000</td>\n",
       "      <td>73</td>\n",
       "    </tr>\n",
       "    <tr>\n",
       "      <th>276</th>\n",
       "      <td>2021-04-12</td>\n",
       "      <td>13</td>\n",
       "      <td>NaN</td>\n",
       "      <td>NaN</td>\n",
       "      <td>0.038</td>\n",
       "      <td>16.6</td>\n",
       "      <td>0</td>\n",
       "      <td>3.8</td>\n",
       "      <td>48</td>\n",
       "      <td>1974</td>\n",
       "      <td>10</td>\n",
       "    </tr>\n",
       "  </tbody>\n",
       "</table>\n",
       "</div>"
      ],
      "text/plain": [
       "           date  hour  PM10  PM2.5  ozone  temperature  precipitation  \\\n",
       "273  2021-04-12    10  38.0   24.0  0.036         16.1              0   \n",
       "274  2021-04-12    11   NaN    NaN    NaN         16.9              0   \n",
       "275  2021-04-12    12   NaN    NaN    NaN         17.6              0   \n",
       "276  2021-04-12    13   NaN    NaN  0.038         16.6              0   \n",
       "\n",
       "     windspeed  humidity  visibility  count  \n",
       "273        2.0        46        2000     93  \n",
       "274        2.8        41        2000    117  \n",
       "275        3.9        39        2000     73  \n",
       "276        3.8        48        1974     10  "
      ]
     },
     "metadata": {},
     "output_type": "display_data"
    },
    {
     "data": {
      "text/html": [
       "<div>\n",
       "<style scoped>\n",
       "    .dataframe tbody tr th:only-of-type {\n",
       "        vertical-align: middle;\n",
       "    }\n",
       "\n",
       "    .dataframe tbody tr th {\n",
       "        vertical-align: top;\n",
       "    }\n",
       "\n",
       "    .dataframe thead th {\n",
       "        text-align: right;\n",
       "    }\n",
       "</style>\n",
       "<table border=\"1\" class=\"dataframe\">\n",
       "  <thead>\n",
       "    <tr style=\"text-align: right;\">\n",
       "      <th></th>\n",
       "      <th>date</th>\n",
       "      <th>hour</th>\n",
       "      <th>PM10</th>\n",
       "      <th>PM2.5</th>\n",
       "      <th>ozone</th>\n",
       "      <th>temperature</th>\n",
       "      <th>precipitation</th>\n",
       "      <th>windspeed</th>\n",
       "      <th>humidity</th>\n",
       "      <th>visibility</th>\n",
       "      <th>count</th>\n",
       "    </tr>\n",
       "  </thead>\n",
       "  <tbody>\n",
       "    <tr>\n",
       "      <th>273</th>\n",
       "      <td>2021-04-12</td>\n",
       "      <td>10</td>\n",
       "      <td>38.0</td>\n",
       "      <td>24.0</td>\n",
       "      <td>0.036</td>\n",
       "      <td>16.1</td>\n",
       "      <td>0</td>\n",
       "      <td>2.0</td>\n",
       "      <td>46</td>\n",
       "      <td>2000</td>\n",
       "      <td>93</td>\n",
       "    </tr>\n",
       "    <tr>\n",
       "      <th>274</th>\n",
       "      <td>2021-04-12</td>\n",
       "      <td>11</td>\n",
       "      <td>59.7</td>\n",
       "      <td>15.7</td>\n",
       "      <td>0.038</td>\n",
       "      <td>16.9</td>\n",
       "      <td>0</td>\n",
       "      <td>2.8</td>\n",
       "      <td>41</td>\n",
       "      <td>2000</td>\n",
       "      <td>117</td>\n",
       "    </tr>\n",
       "    <tr>\n",
       "      <th>275</th>\n",
       "      <td>2021-04-12</td>\n",
       "      <td>12</td>\n",
       "      <td>44.3</td>\n",
       "      <td>16.7</td>\n",
       "      <td>0.042</td>\n",
       "      <td>17.6</td>\n",
       "      <td>0</td>\n",
       "      <td>3.9</td>\n",
       "      <td>39</td>\n",
       "      <td>2000</td>\n",
       "      <td>73</td>\n",
       "    </tr>\n",
       "    <tr>\n",
       "      <th>276</th>\n",
       "      <td>2021-04-12</td>\n",
       "      <td>13</td>\n",
       "      <td>39.7</td>\n",
       "      <td>22.0</td>\n",
       "      <td>0.038</td>\n",
       "      <td>16.6</td>\n",
       "      <td>0</td>\n",
       "      <td>3.8</td>\n",
       "      <td>48</td>\n",
       "      <td>1974</td>\n",
       "      <td>10</td>\n",
       "    </tr>\n",
       "  </tbody>\n",
       "</table>\n",
       "</div>"
      ],
      "text/plain": [
       "          date  hour  PM10  PM2.5  ozone  temperature  precipitation  \\\n",
       "273 2021-04-12    10  38.0   24.0  0.036         16.1              0   \n",
       "274 2021-04-12    11  59.7   15.7  0.038         16.9              0   \n",
       "275 2021-04-12    12  44.3   16.7  0.042         17.6              0   \n",
       "276 2021-04-12    13  39.7   22.0  0.038         16.6              0   \n",
       "\n",
       "     windspeed  humidity  visibility  count  \n",
       "273        2.0        46        2000     93  \n",
       "274        2.8        41        2000    117  \n",
       "275        3.9        39        2000     73  \n",
       "276        3.8        48        1974     10  "
      ]
     },
     "metadata": {},
     "output_type": "display_data"
    }
   ],
   "source": [
    "sbike_na_sample = sbike.loc[sbike['PM10'].isna()].head(2)\n",
    "indexs = sorted([sbike_na_sample.index[0], sbike_na_sample.index[1], sbike_na_sample.index[0] - 1, sbike_na_sample.index[1] + 1])\n",
    "display(sbike.iloc[indexs])\n",
    "display(sbike_knn.iloc[indexs])"
   ]
  },
  {
   "cell_type": "code",
   "execution_count": null,
   "id": "50f07bc3",
   "metadata": {},
   "outputs": [],
   "source": [
    "sbike_knn.to_csv('data_pre.csv', index=False)"
   ]
  },
  {
   "cell_type": "code",
   "execution_count": 54,
   "id": "5f263b3a",
   "metadata": {},
   "outputs": [
    {
     "data": {
      "text/html": [
       "<div>\n",
       "<style scoped>\n",
       "    .dataframe tbody tr th:only-of-type {\n",
       "        vertical-align: middle;\n",
       "    }\n",
       "\n",
       "    .dataframe tbody tr th {\n",
       "        vertical-align: top;\n",
       "    }\n",
       "\n",
       "    .dataframe thead th {\n",
       "        text-align: right;\n",
       "    }\n",
       "</style>\n",
       "<table border=\"1\" class=\"dataframe\">\n",
       "  <thead>\n",
       "    <tr style=\"text-align: right;\">\n",
       "      <th></th>\n",
       "      <th>date</th>\n",
       "      <th>hour</th>\n",
       "      <th>PM10</th>\n",
       "      <th>PM2.5</th>\n",
       "      <th>ozone</th>\n",
       "      <th>temperature</th>\n",
       "      <th>precipitation</th>\n",
       "      <th>windspeed</th>\n",
       "      <th>humidity</th>\n",
       "      <th>visibility</th>\n",
       "      <th>count</th>\n",
       "    </tr>\n",
       "  </thead>\n",
       "  <tbody>\n",
       "    <tr>\n",
       "      <th>0</th>\n",
       "      <td>2021-04-01</td>\n",
       "      <td>1</td>\n",
       "      <td>42.0</td>\n",
       "      <td>21.0</td>\n",
       "      <td>0.002</td>\n",
       "      <td>13.1</td>\n",
       "      <td>0</td>\n",
       "      <td>1.4</td>\n",
       "      <td>49</td>\n",
       "      <td>2000</td>\n",
       "      <td>46</td>\n",
       "    </tr>\n",
       "    <tr>\n",
       "      <th>1</th>\n",
       "      <td>2021-04-01</td>\n",
       "      <td>2</td>\n",
       "      <td>41.0</td>\n",
       "      <td>21.0</td>\n",
       "      <td>0.003</td>\n",
       "      <td>12.4</td>\n",
       "      <td>0</td>\n",
       "      <td>2.1</td>\n",
       "      <td>53</td>\n",
       "      <td>2000</td>\n",
       "      <td>40</td>\n",
       "    </tr>\n",
       "  </tbody>\n",
       "</table>\n",
       "</div>"
      ],
      "text/plain": [
       "        date  hour  PM10  PM2.5  ozone  temperature  precipitation  windspeed  \\\n",
       "0 2021-04-01     1  42.0   21.0  0.002         13.1              0        1.4   \n",
       "1 2021-04-01     2  41.0   21.0  0.003         12.4              0        2.1   \n",
       "\n",
       "   humidity  visibility  count  \n",
       "0        49        2000     46  \n",
       "1        53        2000     40  "
      ]
     },
     "execution_count": 54,
     "metadata": {},
     "output_type": "execute_result"
    }
   ],
   "source": [
    "sbike_knn = pd.read_csv('data_pre.csv')\n",
    "sbike_knn['date'] = pd.to_datetime(sbike_knn['date'])\n",
    "sbike_knn.head(2)"
   ]
  },
  {
   "cell_type": "markdown",
   "id": "6679003a",
   "metadata": {},
   "source": [
    "## 3> 변수별 분석 및 가설 설정\n",
    "\n",
    "- 귀무가설 : 차이가 없다, 연관성이 없다, 효과가 없다\n",
    "- 대립가설 : 차이가 있다, 연관성이 있다, 효과가 있다\n",
    "\n",
    "* 예시\n",
    "    - 귀무가설 : 강우 여부와 따릉이간에는 연관성이 없다.\n",
    "    - 대립가설 : 강우 여부와 따릉이 대여량 간에는 연관성이 있다."
   ]
  },
  {
   "cell_type": "markdown",
   "id": "b9662489",
   "metadata": {},
   "source": [
    "### 3-1> date"
   ]
  },
  {
   "cell_type": "code",
   "execution_count": 15,
   "id": "a7ad2938",
   "metadata": {},
   "outputs": [
    {
     "name": "stdout",
     "output_type": "stream",
     "text": [
      "관측기간: 2021-04-01 00시 ~ 2021-11-30 00시\n"
     ]
    }
   ],
   "source": [
    "print(\"관측기간: %s시 ~ %s시\" % (sbike_knn['date'].min().strftime('%Y-%m-%d %H'), sbike_knn['date'].max().strftime('%Y-%m-%d %H')))"
   ]
  },
  {
   "cell_type": "code",
   "execution_count": 16,
   "id": "f18962db",
   "metadata": {},
   "outputs": [
    {
     "data": {
      "text/html": [
       "<div>\n",
       "<style scoped>\n",
       "    .dataframe tbody tr th:only-of-type {\n",
       "        vertical-align: middle;\n",
       "    }\n",
       "\n",
       "    .dataframe tbody tr th {\n",
       "        vertical-align: top;\n",
       "    }\n",
       "\n",
       "    .dataframe thead th {\n",
       "        text-align: right;\n",
       "    }\n",
       "</style>\n",
       "<table border=\"1\" class=\"dataframe\">\n",
       "  <thead>\n",
       "    <tr style=\"text-align: right;\">\n",
       "      <th></th>\n",
       "      <th>date</th>\n",
       "    </tr>\n",
       "  </thead>\n",
       "  <tbody>\n",
       "    <tr>\n",
       "      <th>2021-04-01</th>\n",
       "      <td>23</td>\n",
       "    </tr>\n",
       "    <tr>\n",
       "      <th>2021-04-30</th>\n",
       "      <td>22</td>\n",
       "    </tr>\n",
       "    <tr>\n",
       "      <th>2021-05-21</th>\n",
       "      <td>23</td>\n",
       "    </tr>\n",
       "    <tr>\n",
       "      <th>2021-09-21</th>\n",
       "      <td>22</td>\n",
       "    </tr>\n",
       "    <tr>\n",
       "      <th>2021-11-30</th>\n",
       "      <td>1</td>\n",
       "    </tr>\n",
       "  </tbody>\n",
       "</table>\n",
       "</div>"
      ],
      "text/plain": [
       "            date\n",
       "2021-04-01    23\n",
       "2021-04-30    22\n",
       "2021-05-21    23\n",
       "2021-09-21    22\n",
       "2021-11-30     1"
      ]
     },
     "execution_count": 16,
     "metadata": {},
     "output_type": "execute_result"
    }
   ],
   "source": [
    "sb_date = sbike_knn['date'].value_counts().to_frame().sort_values(by='date', ascending=False)\n",
    "sb_date.loc[sb_date['date'] < 24].sort_index()\n",
    "\n",
    "# 관측 시작일과 종료일은 예외\n",
    "# 나머지 3일은 1~2시간의 값 결측(값 보충 생략)"
   ]
  },
  {
   "cell_type": "markdown",
   "id": "2a240084",
   "metadata": {},
   "source": [
    "### 3-2> ozone"
   ]
  },
  {
   "cell_type": "code",
   "execution_count": 4,
   "id": "faae8b7d",
   "metadata": {},
   "outputs": [],
   "source": [
    "import warnings\n",
    "from matplotlib.cbook import MatplotlibDeprecationWarning\n",
    "\n",
    "def single_hist_box(var, data=sbike_knn, bins_=25, figsize_=(9,3)):\n",
    "    warnings.filterwarnings(\"ignore\", category=MatplotlibDeprecationWarning)\n",
    "    \n",
    "    plt.figure(figsize=figsize_)\n",
    "\n",
    "    plt.subplot(1,2,1)\n",
    "    sns.histplot(x=var, data=data, bins=bins_, kde=True)\n",
    "\n",
    "    plt.subplot(1,2,2)\n",
    "    sns.boxplot(x=var, data=data)\n",
    "    plt.grid()\n",
    "\n",
    "    plt.tight_layout()\n",
    "    plt.show()"
   ]
  },
  {
   "cell_type": "code",
   "execution_count": 101,
   "id": "5cb8fac5",
   "metadata": {},
   "outputs": [
    {
     "data": {
      "text/html": [
       "<div>\n",
       "<style scoped>\n",
       "    .dataframe tbody tr th:only-of-type {\n",
       "        vertical-align: middle;\n",
       "    }\n",
       "\n",
       "    .dataframe tbody tr th {\n",
       "        vertical-align: top;\n",
       "    }\n",
       "\n",
       "    .dataframe thead th {\n",
       "        text-align: right;\n",
       "    }\n",
       "</style>\n",
       "<table border=\"1\" class=\"dataframe\">\n",
       "  <thead>\n",
       "    <tr style=\"text-align: right;\">\n",
       "      <th></th>\n",
       "      <th>count</th>\n",
       "      <th>mean</th>\n",
       "      <th>std</th>\n",
       "      <th>min</th>\n",
       "      <th>25%</th>\n",
       "      <th>50%</th>\n",
       "      <th>75%</th>\n",
       "      <th>max</th>\n",
       "    </tr>\n",
       "  </thead>\n",
       "  <tbody>\n",
       "    <tr>\n",
       "      <th>ozone</th>\n",
       "      <td>5827.0</td>\n",
       "      <td>0.031829</td>\n",
       "      <td>0.018212</td>\n",
       "      <td>0.001</td>\n",
       "      <td>0.02</td>\n",
       "      <td>0.031</td>\n",
       "      <td>0.041</td>\n",
       "      <td>0.137</td>\n",
       "    </tr>\n",
       "  </tbody>\n",
       "</table>\n",
       "</div>"
      ],
      "text/plain": [
       "        count      mean       std    min   25%    50%    75%    max\n",
       "ozone  5827.0  0.031829  0.018212  0.001  0.02  0.031  0.041  0.137"
      ]
     },
     "execution_count": 101,
     "metadata": {},
     "output_type": "execute_result"
    }
   ],
   "source": [
    "# 기초통계량\n",
    "sbike_knn[['ozone']].describe().T"
   ]
  },
  {
   "cell_type": "code",
   "execution_count": 122,
   "id": "a8c62759",
   "metadata": {},
   "outputs": [
    {
     "data": {
      "image/png": "[encoded data removed]",
      "text/plain": [
       "<Figure size 900x300 with 2 Axes>"
      ]
     },
     "metadata": {},
     "output_type": "display_data"
    }
   ],
   "source": [
    "single_hist_box('ozone')"
   ]
  },
  {
   "cell_type": "code",
   "execution_count": null,
   "id": "f12d1bd3",
   "metadata": {},
   "outputs": [],
   "source": [
    "# ozone\n",
    "# 1~3사분위수 사이에 대부분의 값이 있음.\n",
    "# 특별히 눈에 띄는 이상 없음."
   ]
  },
  {
   "cell_type": "code",
   "execution_count": 14,
   "id": "6b9b9dc7",
   "metadata": {},
   "outputs": [],
   "source": [
    "def pearson_corr(x, y='count'):\n",
    "    if y == 'count':\n",
    "        print(\"<귀무가설> %s에 대한 자전거 대여량의 차이가 없다.\" % x)\n",
    "    pr = spst.pearsonr(sbike_knn[x], sbike_knn[y])\n",
    "    print(\"상관계수:\", round(pr[0], 3))\n",
    "    if pr[1] < 0.05:\n",
    "        if pr[0] > 0:\n",
    "            print(\"귀무가설 기각. %s-%s 양의 상관관계\" % (x, y))\n",
    "        elif pr[0] < 0:\n",
    "            print(\"귀무가설 기각. %s-%s 음의 상관관계\" % (x, y))\n",
    "        else:\n",
    "            print(\"귀무가설 기각. %s-%s 관계 없음\" % (x, y))\n",
    "    else:\n",
    "        print(\"귀무가설을 기각하지 않는다. %s에 대한 %s의 차이가 없다.\" % (x, y))"
   ]
  },
  {
   "cell_type": "code",
   "execution_count": 31,
   "id": "6a6b7d17",
   "metadata": {},
   "outputs": [
    {
     "name": "stdout",
     "output_type": "stream",
     "text": [
      "<귀무가설> ozone에 대한 자전거 대여량의 차이가 없다.\n",
      "상관계수: 0.315\n",
      "귀무가설 기각. ozone-count 양의 상관관계\n"
     ]
    }
   ],
   "source": [
    "pearson_corr('ozone')"
   ]
  },
  {
   "cell_type": "markdown",
   "id": "f0da4cd7",
   "metadata": {},
   "source": [
    "### 3-3> PM10, PM2.5\n",
    "* 두 미세먼지 농도는 미세먼지의 크기차이이므로 함께 분석"
   ]
  },
  {
   "cell_type": "code",
   "execution_count": 11,
   "id": "9ed1dfb5",
   "metadata": {},
   "outputs": [
    {
     "data": {
      "image/png": "[encoded data removed]",
      "text/plain": [
       "<Figure size 900x300 with 2 Axes>"
      ]
     },
     "metadata": {},
     "output_type": "display_data"
    },
    {
     "data": {
      "image/png": "[encoded data removed]",
      "text/plain": [
       "<Figure size 900x300 with 2 Axes>"
      ]
     },
     "metadata": {},
     "output_type": "display_data"
    }
   ],
   "source": [
    "single_hist_box('PM10')\n",
    "single_hist_box('PM2.5')"
   ]
  },
  {
   "cell_type": "code",
   "execution_count": 7,
   "id": "1388da85",
   "metadata": {},
   "outputs": [
    {
     "name": "stdout",
     "output_type": "stream",
     "text": [
      "<귀무가설> PM10에 대한 자전거 대여량의 차이가 없다.\n",
      "상관계수: 0.028\n",
      "귀무가설 기각. PM10-count 양의 상관관계\n",
      "\n",
      "<귀무가설> PM2.5에 대한 자전거 대여량의 차이가 없다.\n",
      "상관계수: 0.036\n",
      "귀무가설 기각. PM2.5-count 양의 상관관계\n"
     ]
    }
   ],
   "source": [
    "pearson_corr('PM10')\n",
    "print()\n",
    "pearson_corr('PM2.5')"
   ]
  },
  {
   "cell_type": "code",
   "execution_count": 10,
   "id": "ce0a5559",
   "metadata": {},
   "outputs": [
    {
     "data": {
      "image/png": "[encoded data removed]",
      "text/plain": [
       "<Figure size 640x480 with 1 Axes>"
      ]
     },
     "metadata": {},
     "output_type": "display_data"
    }
   ],
   "source": [
    "sns.scatterplot(data=sbike_knn, x='PM10', y='PM2.5')\n",
    "plt.title(\"미세먼지간 관계\")\n",
    "plt.show()"
   ]
  },
  {
   "cell_type": "code",
   "execution_count": 15,
   "id": "7588c86c",
   "metadata": {},
   "outputs": [
    {
     "name": "stdout",
     "output_type": "stream",
     "text": [
      "상관계수: 0.684\n",
      "귀무가설 기각. PM10-PM2.5 양의 상관관계\n"
     ]
    }
   ],
   "source": [
    "pearson_corr(x='PM10', y='PM2.5')"
   ]
  },
  {
   "cell_type": "markdown",
   "id": "16573f2f",
   "metadata": {},
   "source": [
    "### 3-4> precipitation (범주형 변수)"
   ]
  },
  {
   "cell_type": "code",
   "execution_count": 41,
   "id": "eb975dbf",
   "metadata": {},
   "outputs": [
    {
     "data": {
      "text/html": [
       "<div>\n",
       "<style scoped>\n",
       "    .dataframe tbody tr th:only-of-type {\n",
       "        vertical-align: middle;\n",
       "    }\n",
       "\n",
       "    .dataframe tbody tr th {\n",
       "        vertical-align: top;\n",
       "    }\n",
       "\n",
       "    .dataframe thead th {\n",
       "        text-align: right;\n",
       "    }\n",
       "</style>\n",
       "<table border=\"1\" class=\"dataframe\">\n",
       "  <thead>\n",
       "    <tr style=\"text-align: right;\">\n",
       "      <th></th>\n",
       "      <th>precipitation</th>\n",
       "    </tr>\n",
       "  </thead>\n",
       "  <tbody>\n",
       "    <tr>\n",
       "      <th>0</th>\n",
       "      <td>0.924</td>\n",
       "    </tr>\n",
       "    <tr>\n",
       "      <th>1</th>\n",
       "      <td>0.076</td>\n",
       "    </tr>\n",
       "  </tbody>\n",
       "</table>\n",
       "</div>"
      ],
      "text/plain": [
       "   precipitation\n",
       "0          0.924\n",
       "1          0.076"
      ]
     },
     "execution_count": 41,
     "metadata": {},
     "output_type": "execute_result"
    }
   ],
   "source": [
    "sbike_knn['precipitation'].value_counts(normalize=True).round(3).to_frame() # 비가 오지 않은 시간대가 훨씬 많음."
   ]
  },
  {
   "cell_type": "code",
   "execution_count": 10,
   "id": "b328f896",
   "metadata": {},
   "outputs": [
    {
     "data": {
      "image/png": "[encoded data removed]",
      "text/plain": [
       "<Figure size 1000x400 with 2 Axes>"
      ]
     },
     "metadata": {},
     "output_type": "display_data"
    }
   ],
   "source": [
    "plt.figure(figsize=(10,4))\n",
    "\n",
    "plt.subplot(1,2,1)\n",
    "sns.countplot(x=sbike_knn['precipitation'],\n",
    "              hue=sbike_knn['precipitation'], palette='Set2')\n",
    "plt.title(\"강수여부 비교\")\n",
    "plt.ylabel(\"\")\n",
    "plt.grid()\n",
    "\n",
    "plt.subplot(1,2,2)\n",
    "sns.barplot(x='precipitation', y='count', data=sbike_knn,\n",
    "            hue=sbike_knn['precipitation'], palette='pastel')\n",
    "plt.title(\"강수여부와 자전거 대여량 관계\")\n",
    "plt.ylabel(\"자전거 대여량\")\n",
    "plt.grid()\n",
    "\n",
    "plt.show()"
   ]
  },
  {
   "cell_type": "code",
   "execution_count": 50,
   "id": "6c7494d9",
   "metadata": {},
   "outputs": [],
   "source": [
    "precipi_rainX = sbike_knn.loc[sbike_knn['precipitation'] == 0, 'count']\n",
    "precipi_rainO = sbike_knn.loc[sbike_knn['precipitation'] == 1, 'count']"
   ]
  },
  {
   "cell_type": "code",
   "execution_count": 51,
   "id": "33180ceb",
   "metadata": {},
   "outputs": [
    {
     "data": {
      "text/plain": [
       "Ttest_indResult(statistic=21.389614151911022, pvalue=8.86239184041254e-98)"
      ]
     },
     "execution_count": 51,
     "metadata": {},
     "output_type": "execute_result"
    }
   ],
   "source": [
    "spst.ttest_ind(precipi_rainX, precipi_rainO) # 비가 오지 않을 때 자전거 대여량 평균이 높다."
   ]
  },
  {
   "cell_type": "markdown",
   "id": "a61cc9ab",
   "metadata": {},
   "source": [
    "### 3-5> windspeed"
   ]
  },
  {
   "cell_type": "code",
   "execution_count": 13,
   "id": "d33e9f5d",
   "metadata": {},
   "outputs": [
    {
     "data": {
      "image/png": "[encoded data removed]",
      "text/plain": [
       "<Figure size 900x300 with 2 Axes>"
      ]
     },
     "metadata": {},
     "output_type": "display_data"
    }
   ],
   "source": [
    "single_hist_box('windspeed')"
   ]
  },
  {
   "cell_type": "code",
   "execution_count": 16,
   "id": "f51fc92d",
   "metadata": {},
   "outputs": [
    {
     "name": "stdout",
     "output_type": "stream",
     "text": [
      "<귀무가설> windspeed에 대한 자전거 대여량의 차이가 없다.\n",
      "상관계수: 0.224\n",
      "귀무가설 기각. windspeed-count 양의 상관관계\n"
     ]
    }
   ],
   "source": [
    "pearson_corr('windspeed')"
   ]
  },
  {
   "cell_type": "markdown",
   "id": "cd87bc01",
   "metadata": {},
   "source": [
    "### 3-6> humidity"
   ]
  },
  {
   "cell_type": "code",
   "execution_count": 17,
   "id": "50a4d4e5",
   "metadata": {},
   "outputs": [
    {
     "data": {
      "image/png": "[encoded data removed]",
      "text/plain": [
       "<Figure size 900x300 with 2 Axes>"
      ]
     },
     "metadata": {},
     "output_type": "display_data"
    }
   ],
   "source": [
    "single_hist_box('humidity')"
   ]
  },
  {
   "cell_type": "code",
   "execution_count": 18,
   "id": "a12c8dd7",
   "metadata": {},
   "outputs": [
    {
     "name": "stdout",
     "output_type": "stream",
     "text": [
      "<귀무가설> humidity에 대한 자전거 대여량의 차이가 없다.\n",
      "상관계수: -0.479\n",
      "귀무가설 기각. humidity-count 음의 상관관계\n"
     ]
    }
   ],
   "source": [
    "pearson_corr('humidity')"
   ]
  },
  {
   "cell_type": "markdown",
   "id": "61500e1c",
   "metadata": {},
   "source": [
    "### 3-7> visibility"
   ]
  },
  {
   "cell_type": "code",
   "execution_count": 25,
   "id": "4e38aeaa",
   "metadata": {},
   "outputs": [
    {
     "data": {
      "text/html": [
       "<div>\n",
       "<style scoped>\n",
       "    .dataframe tbody tr th:only-of-type {\n",
       "        vertical-align: middle;\n",
       "    }\n",
       "\n",
       "    .dataframe tbody tr th {\n",
       "        vertical-align: top;\n",
       "    }\n",
       "\n",
       "    .dataframe thead th {\n",
       "        text-align: right;\n",
       "    }\n",
       "</style>\n",
       "<table border=\"1\" class=\"dataframe\">\n",
       "  <thead>\n",
       "    <tr style=\"text-align: right;\">\n",
       "      <th></th>\n",
       "      <th>visibility</th>\n",
       "    </tr>\n",
       "  </thead>\n",
       "  <tbody>\n",
       "    <tr>\n",
       "      <th>2000</th>\n",
       "      <td>0.723872</td>\n",
       "    </tr>\n",
       "    <tr>\n",
       "      <th>1999</th>\n",
       "      <td>0.000858</td>\n",
       "    </tr>\n",
       "    <tr>\n",
       "      <th>1998</th>\n",
       "      <td>0.000343</td>\n",
       "    </tr>\n",
       "    <tr>\n",
       "      <th>1997</th>\n",
       "      <td>0.001030</td>\n",
       "    </tr>\n",
       "    <tr>\n",
       "      <th>1996</th>\n",
       "      <td>0.001373</td>\n",
       "    </tr>\n",
       "    <tr>\n",
       "      <th>...</th>\n",
       "      <td>...</td>\n",
       "    </tr>\n",
       "    <tr>\n",
       "      <th>77</th>\n",
       "      <td>0.000172</td>\n",
       "    </tr>\n",
       "    <tr>\n",
       "      <th>73</th>\n",
       "      <td>0.000172</td>\n",
       "    </tr>\n",
       "    <tr>\n",
       "      <th>68</th>\n",
       "      <td>0.000172</td>\n",
       "    </tr>\n",
       "    <tr>\n",
       "      <th>61</th>\n",
       "      <td>0.000172</td>\n",
       "    </tr>\n",
       "    <tr>\n",
       "      <th>60</th>\n",
       "      <td>0.000172</td>\n",
       "    </tr>\n",
       "  </tbody>\n",
       "</table>\n",
       "<p>1032 rows × 1 columns</p>\n",
       "</div>"
      ],
      "text/plain": [
       "      visibility\n",
       "2000    0.723872\n",
       "1999    0.000858\n",
       "1998    0.000343\n",
       "1997    0.001030\n",
       "1996    0.001373\n",
       "...          ...\n",
       "77      0.000172\n",
       "73      0.000172\n",
       "68      0.000172\n",
       "61      0.000172\n",
       "60      0.000172\n",
       "\n",
       "[1032 rows x 1 columns]"
      ]
     },
     "execution_count": 25,
     "metadata": {},
     "output_type": "execute_result"
    }
   ],
   "source": [
    "sbike_knn['visibility'].value_counts(normalize=True).to_frame().sort_index(ascending=False)"
   ]
  },
  {
   "cell_type": "code",
   "execution_count": 20,
   "id": "9e8ced6d",
   "metadata": {},
   "outputs": [
    {
     "data": {
      "image/png": "[encoded data removed]",
      "text/plain": [
       "<Figure size 900x300 with 2 Axes>"
      ]
     },
     "metadata": {},
     "output_type": "display_data"
    }
   ],
   "source": [
    "single_hist_box('visibility')"
   ]
  },
  {
   "cell_type": "code",
   "execution_count": 26,
   "id": "7031a1ed",
   "metadata": {},
   "outputs": [
    {
     "name": "stdout",
     "output_type": "stream",
     "text": [
      "<귀무가설> visibility에 대한 자전거 대여량의 차이가 없다.\n",
      "상관계수: 0.266\n",
      "귀무가설 기각. visibility-count 양의 상관관계\n"
     ]
    }
   ],
   "source": [
    "pearson_corr('visibility')"
   ]
  },
  {
   "cell_type": "markdown",
   "id": "58d40840",
   "metadata": {},
   "source": [
    "## 4> 추가 분석"
   ]
  },
  {
   "cell_type": "code",
   "execution_count": 63,
   "id": "f971db08",
   "metadata": {},
   "outputs": [
    {
     "data": {
      "image/png": "[encoded data removed]",
      "text/plain": [
       "<Figure size 640x480 with 1 Axes>"
      ]
     },
     "metadata": {},
     "output_type": "display_data"
    }
   ],
   "source": [
    "sbike_knn_hm = sbike_knn[['ozone', 'PM10', 'PM2.5', 'windspeed', 'humidity', 'visibility', 'count']].copy()\n",
    "sns.heatmap(data=sbike_knn_hm.corr(),\n",
    "            annot=True,\n",
    "            fmt='.2f',\n",
    "            cmap='Blues',\n",
    "            cbar=False)\n",
    "plt.title(\"수치형 변수에 대한 상관관계 히트맵\")\n",
    "plt.show()"
   ]
  },
  {
   "cell_type": "markdown",
   "id": "06429d48",
   "metadata": {},
   "source": [
    "### 4-1> 시간에 따른 대여량 비교\n",
    "* 6~10시 (출근)\n",
    "* 10~14시 (점심)\n",
    "* 16~20시 (퇴근)\n",
    "* 20~0시 (저녁산책)"
   ]
  },
  {
   "cell_type": "code",
   "execution_count": 45,
   "id": "7e53ffc3",
   "metadata": {},
   "outputs": [],
   "source": [
    "hour6 = sbike_knn.loc[(sbike_knn['hour'] >= 6) & (sbike_knn['hour'] <= 10), 'count']\n",
    "hour10 = sbike_knn.loc[(sbike_knn['hour'] >= 10) & (sbike_knn['hour'] <= 14), 'count']\n",
    "hour16 = sbike_knn.loc[(sbike_knn['hour'] >= 16) & (sbike_knn['hour'] <= 20), 'count']\n",
    "hour20 = sbike_knn.loc[(sbike_knn['hour'] >= 20) | (sbike_knn['hour'] == 1), 'count']"
   ]
  },
  {
   "cell_type": "code",
   "execution_count": 39,
   "id": "69d1f46b",
   "metadata": {},
   "outputs": [
    {
     "data": {
      "text/plain": [
       "Ttest_indResult(statistic=-14.9048310335258, pvalue=3.865782363063275e-48)"
      ]
     },
     "execution_count": 39,
     "metadata": {},
     "output_type": "execute_result"
    }
   ],
   "source": [
    "spst.ttest_ind(hour6, hour10) # 출근시간대보다 점심시간대의 대여량 평균이 높다."
   ]
  },
  {
   "cell_type": "code",
   "execution_count": 41,
   "id": "995fb2f9",
   "metadata": {},
   "outputs": [
    {
     "data": {
      "text/plain": [
       "Ttest_indResult(statistic=-29.962606539401474, pvalue=4.0723583112803193e-168)"
      ]
     },
     "execution_count": 41,
     "metadata": {},
     "output_type": "execute_result"
    }
   ],
   "source": [
    "spst.ttest_ind(hour10, hour16) # 점심시간대보다 퇴근시간대의 대여량 평균이 높다."
   ]
  },
  {
   "cell_type": "code",
   "execution_count": 46,
   "id": "cd70fcdb",
   "metadata": {},
   "outputs": [
    {
     "data": {
      "text/plain": [
       "Ttest_indResult(statistic=26.614124187145624, pvalue=3.721716162657217e-137)"
      ]
     },
     "execution_count": 46,
     "metadata": {},
     "output_type": "execute_result"
    }
   ],
   "source": [
    "spst.ttest_ind(hour16, hour20) # 저녁산책시간대보다 퇴근시간대의 대여량 평균이 높다."
   ]
  },
  {
   "cell_type": "code",
   "execution_count": 48,
   "id": "fd569f5f",
   "metadata": {},
   "outputs": [
    {
     "name": "stdout",
     "output_type": "stream",
     "text": [
      "Ttest_indResult(statistic=0.00933390418883189, pvalue=0.9925534969086127)\n",
      "Ttest_indResult(statistic=-11.380890194268334, pvalue=2.8355422837855293e-29)\n"
     ]
    }
   ],
   "source": [
    "print(spst.ttest_ind(hour10, hour20)) # 점심시간대와 저녁산책시간대의 대여량 평균은 그다지 차이가 없고,\n",
    "print(spst.ttest_ind(hour6, hour20)) # 출근시간대보다 저녁산책시간대의 대여량 평균이 높다."
   ]
  },
  {
   "cell_type": "markdown",
   "id": "253bd8ea",
   "metadata": {},
   "source": [
    "* 자전거 대여량 시간대 순위\n",
    "    - 6~10 < 10~14, 20~0 < 16~20"
   ]
  },
  {
   "cell_type": "markdown",
   "id": "704cfeb2",
   "metadata": {},
   "source": [
    "### 4-2> 계절에 따른 대여량 비교"
   ]
  },
  {
   "cell_type": "code",
   "execution_count": 59,
   "id": "2066ba42",
   "metadata": {},
   "outputs": [],
   "source": [
    "spring = sbike_knn.loc[(sbike_knn['date'].dt.month >= 3) & (sbike_knn['date'].dt.month <= 5), 'count']\n",
    "summer = sbike_knn.loc[(sbike_knn['date'].dt.month >= 6) & (sbike_knn['date'].dt.month <= 8), 'count']\n",
    "autumn = sbike_knn.loc[(sbike_knn['date'].dt.month >= 9) & (sbike_knn['date'].dt.month <= 11), 'count']"
   ]
  },
  {
   "cell_type": "code",
   "execution_count": 60,
   "id": "b061e186",
   "metadata": {},
   "outputs": [
    {
     "data": {
      "text/plain": [
       "Ttest_indResult(statistic=0.6420519786778461, pvalue=0.5208795788845337)"
      ]
     },
     "execution_count": 60,
     "metadata": {},
     "output_type": "execute_result"
    }
   ],
   "source": [
    "spst.ttest_ind(spring, summer) # 봄과 여름의 대여량 평균은 그다지 차이가 없다."
   ]
  },
  {
   "cell_type": "code",
   "execution_count": 61,
   "id": "a3969f27",
   "metadata": {},
   "outputs": [
    {
     "data": {
      "text/plain": [
       "Ttest_indResult(statistic=-2.4424180574850016, pvalue=0.014636794553064263)"
      ]
     },
     "execution_count": 61,
     "metadata": {},
     "output_type": "execute_result"
    }
   ],
   "source": [
    "spst.ttest_ind(spring, autumn) # 봄보다 가을의 대여량 평균이 높다."
   ]
  },
  {
   "cell_type": "code",
   "execution_count": 62,
   "id": "c5bbee55",
   "metadata": {},
   "outputs": [
    {
     "data": {
      "text/plain": [
       "Ttest_indResult(statistic=-3.621267148223376, pvalue=0.00029649347728705975)"
      ]
     },
     "execution_count": 62,
     "metadata": {},
     "output_type": "execute_result"
    }
   ],
   "source": [
    "spst.ttest_ind(summer, autumn) # 여름보다 가을의 대여량 평균이 높다."
   ]
  },
  {
   "cell_type": "markdown",
   "id": "c099e8e9",
   "metadata": {},
   "source": [
    "* 자전거 대여량 계절 순위\n",
    "    - 봄, 여름 < 가을"
   ]
  },
  {
   "cell_type": "markdown",
   "id": "2f9adaed",
   "metadata": {},
   "source": [
    "## 5> 인사이트 및 결론\n",
    "\n",
    "* precipitation, 비가 오면 자전거 대여량이 매우 감소한다.\n",
    "\n",
    "* ozone 농도, windspeed, visibility가 높을수록, humidity가 낮을수록\n",
    "<br>자전거 대여량이 많아지는 약한 상관관계가 있다.\n",
    "\n",
    "* 봄이나 여름보다는 가을에 자전거 대여량이 많아진다.\n",
    "\n",
    "* 퇴근시간대가 자전거 대여량이 가장 많고, 출근시간대에 가장 적다."
   ]
  },
  {
   "cell_type": "code",
   "execution_count": null,
   "id": "bda4d549",
   "metadata": {},
   "outputs": [],
   "source": []
  }
 ],
 "metadata": {
  "colab": {
   "name": "1. 데이터 불러오기 및 분석(EDA).ipynb",
   "provenance": []
  },
  "kernelspec": {
   "display_name": "Python 3 (ipykernel)",
   "language": "python",
   "name": "python3"
  },
  "language_info": {
   "codemirror_mode": {
    "name": "ipython",
    "version": 3
   },
   "file_extension": ".py",
   "mimetype": "text/x-python",
   "name": "python",
   "nbconvert_exporter": "python",
   "pygments_lexer": "ipython3",
   "version": "3.9.6"
  },
  "vscode": {
   "interpreter": {
    "hash": "cf92aa13fedf815d5c8dd192b8d835913fde3e8bc926b2a0ad6cc74ef2ba3ca2"
   }
  }
 },
 "nbformat": 4,
 "nbformat_minor": 5
}
